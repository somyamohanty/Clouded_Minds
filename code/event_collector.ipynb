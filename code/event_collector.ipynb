{
 "cells": [
  {
   "cell_type": "code",
   "execution_count": 499,
   "metadata": {
    "collapsed": false
   },
   "outputs": [],
   "source": [
    "import pandas as pd\n",
    "import numpy as np\n",
    "import operator\n",
    "from pandas.tseries.offsets import DateOffset\n",
    "from datetime import datetime, timedelta\n",
    "import matplotlib.pyplot as plt\n",
    "import matplotlib\n",
    "import sys\n",
    "import os\n",
    "%matplotlib inline"
   ]
  },
  {
   "cell_type": "code",
   "execution_count": 500,
   "metadata": {
    "collapsed": false
   },
   "outputs": [],
   "source": [
    "class Spike(object):\n",
    "    counter = 1\n",
    "    def __init__(self, start, end,diff, df):\n",
    "        self.start = start\n",
    "        self.end = end\n",
    "        self.dur = end - start\n",
    "        self.diff = diff\n",
    "        self.slope = diff/float(self.end - self.start)\n",
    "        self.size = 0\n",
    "    \n",
    "    def fill_tweets(self, df):\n",
    "        df_ = df[(df.m > self.start) & (df.m <= self.end)]\n",
    "        if 'lang' in df_.columns:\n",
    "            #all_tweets = [tweet.lower() for tweet in df[(df.m > self.start) & (df.m <= self.end)]['text'].values]\n",
    "            all_tweets = [tweet.lower() + '^' + lang  for lang,tweet in zip(df_['lang'], df_['text'])]\n",
    "\n",
    "        else:\n",
    "             all_tweets = [tweet.lower() + '^' + 'xx'  for tweet in df_['text']]\n",
    "        tweet_raw = []\n",
    "        for t in all_tweets:\n",
    "            if 'http' in t:\n",
    "                continue\n",
    "            else:\n",
    "                tweet_raw.append(t)\n",
    "        self.rows = df[(df.m > self.start) & (df.m <= self.end)]\n",
    "        self.size = len(tweet_raw)\n",
    "        self.tweets = '\\n'.join(tweet_raw)\n",
    "    \n",
    "    def write(self,dir_):\n",
    "        filename = dir_ + str(self.__class__.counter) + '.spike'\n",
    "        text = self.__str__() + '\\n' + self.tweets\n",
    "        with open(filename, \"w\") as spike_out:\n",
    "            spike_out.write(text)\n",
    "            self.__class__.counter += 1\n",
    "    def __str__(self):\n",
    "        return 'time:%d-%d, diff:%d, slope:%d, tweet size:%d' %(self.start, self.end, self.diff, self.slope, self.size)"
   ]
  },
  {
   "cell_type": "code",
   "execution_count": 501,
   "metadata": {
    "collapsed": true
   },
   "outputs": [],
   "source": [
    "def to_min(d):\n",
    "    d = d + timedelta(seconds=threshold*60)\n",
    "    minute = (86400* (d-start_time).days + (d-start_time).seconds)/60\n",
    "    return minute"
   ]
  },
  {
   "cell_type": "code",
   "execution_count": 502,
   "metadata": {
    "collapsed": true
   },
   "outputs": [],
   "source": [
    "def filter_tweets_divided(tweets):\n",
    "    filtered = tweets[tweets['m'] > 0]\n",
    "    filtered = filtered[filtered['m'] < 120]\n",
    "    #return filtered\n",
    "    #filtered = filtered[(filtered['text'].str.contains('CHEARS'))]\n",
    "    #filtered = filtered[(filtered['text'].str.contains('CFC')) \n",
    "    #                   | (filtered['text'].str.contains('AFC'))\n",
    "    #                  ]\n",
    "    return filtered"
   ]
  },
  {
   "cell_type": "code",
   "execution_count": 503,
   "metadata": {
    "collapsed": true
   },
   "outputs": [],
   "source": [
    "def half_tweets(tweets):\n",
    "    first_half = tweets[tweets['m']< 50]\n",
    "    second_half = tweets[(tweets['m'] > 60) & (tweets['m'] < 120)]\n",
    "    return first_half, second_half"
   ]
  },
  {
   "cell_type": "code",
   "execution_count": 504,
   "metadata": {
    "collapsed": false
   },
   "outputs": [],
   "source": [
    "def get_spikes(grouped, start=0): #Start value can be 1 or 45 for first half and second half\n",
    "    row = 0 #set current row to begining\n",
    "    spikes = []\n",
    "    while True:\n",
    "        cur_tweet_count = grouped.values[row][0] #Tweet Count of row = row, i.e. Total tweets in first minute\n",
    "        start_index = row\n",
    "        end_index = row\n",
    "        diff = 0\n",
    "        row = row + 1 #Read Next Row\n",
    "        if not row + start >= np.max(grouped.index.values): #If next row is not last row, enter if\n",
    "            next_tweet_count = grouped.values[row][0]    #Get tweet count for next row\n",
    "            while next_tweet_count - cur_tweet_count > diff_threshold: #If difference to previous row is greater than threshold\n",
    "                end_index = row #Set end index as this row\n",
    "                diff += next_tweet_count - cur_tweet_count\n",
    "                cur_tweet_count = next_tweet_count #Update current tweet count as next, \n",
    "                row = row + 1 #and move to next row\n",
    "                if not row + start >= np.max(grouped.index.values): #If next row is not the end,\n",
    "                    next_tweet_count = grouped.values[row][0] #get tweet count\n",
    "                else:\n",
    "                    break #if next row is end, break.\n",
    "            if end_index - start_index > 0: #If start and end has at least one minute diff, create spike and add to list\n",
    "                spikes.append(Spike(start_index + start, end_index + start, diff, grouped))\n",
    "\n",
    "        else:\n",
    "            break\n",
    "    spikes.sort(key=operator.attrgetter('diff'), reverse=True)\n",
    "    return spikes"
   ]
  },
  {
   "cell_type": "code",
   "execution_count": 505,
   "metadata": {
    "collapsed": false
   },
   "outputs": [
    {
     "name": "stdout",
     "output_type": "stream",
     "text": [
      "Running with default config\n"
     ]
    }
   ],
   "source": [
    "filename='../config/config-souswa.txt'\n",
    "config = {}\n",
    "if len(sys.argv) > 2 and sys.argv[1] != '-f':\n",
    "    filename=sys.argv[1]\n",
    "else:\n",
    "    print 'Running with default config'\n",
    "    with open(filename,'r') as configfile:\n",
    "        for line in configfile:\n",
    "            if line.startswith('#'):\n",
    "                continue\n",
    "            name,var=line.partition('=')[::2]\n",
    "            config[name.strip()]=var.strip()\n",
    "start_time = datetime.strptime(config['kotime'], '%Y,%m,%d,%H,%M')"
   ]
  },
  {
   "cell_type": "code",
   "execution_count": 506,
   "metadata": {
    "collapsed": false
   },
   "outputs": [],
   "source": [
    "tweets= pd.read_csv('../data/%s.csv'%config['db'])"
   ]
  },
  {
   "cell_type": "code",
   "execution_count": 507,
   "metadata": {
    "collapsed": true
   },
   "outputs": [],
   "source": [
    "tweets['created_at'] = pd.to_datetime(pd.Series(tweets['created_at'])).apply(lambda d: d + timedelta(hours=1))"
   ]
  },
  {
   "cell_type": "code",
   "execution_count": 508,
   "metadata": {
    "collapsed": false
   },
   "outputs": [],
   "source": [
    "fh_added_time=int(config['fh_added_time'])\n",
    "sh_added_time=int(config['sh_added_time'])\n",
    "threshold=1\n",
    "diff_threshold = 50 # only spikes with difference in tweet count in a minute greater than this value is considered."
   ]
  },
  {
   "cell_type": "code",
   "execution_count": 509,
   "metadata": {
    "collapsed": false,
    "scrolled": false
   },
   "outputs": [],
   "source": [
    "tweets['m']=tweets.created_at.apply(to_min)"
   ]
  },
  {
   "cell_type": "code",
   "execution_count": 510,
   "metadata": {
    "collapsed": false
   },
   "outputs": [],
   "source": [
    "first_half, second_half = half_tweets(tweets)\n",
    "fh_filtered=filter_tweets_divided(first_half)\n",
    "sh_filtered=filter_tweets_divided(second_half)\n",
    "sh_filtered['m'] = sh_filtered.m.apply(lambda d: d - 15 - fh_added_time-threshold)\n",
    "sh_filtered = sh_filtered[sh_filtered['m'] >= 45]"
   ]
  },
  {
   "cell_type": "code",
   "execution_count": 511,
   "metadata": {
    "collapsed": false
   },
   "outputs": [],
   "source": [
    "grouped_fh = fh_filtered.groupby('m').count()\n",
    "grouped_sh = sh_filtered.groupby('m').count()"
   ]
  },
  {
   "cell_type": "code",
   "execution_count": 512,
   "metadata": {
    "collapsed": false
   },
   "outputs": [
    {
     "ename": "IndexError",
     "evalue": "index 0 is out of bounds for axis 0 with size 0",
     "output_type": "error",
     "traceback": [
      "\u001b[1;31m---------------------------------------------------------------------------\u001b[0m",
      "\u001b[1;31mIndexError\u001b[0m                                Traceback (most recent call last)",
      "\u001b[1;32m<ipython-input-512-01b2c60abcfe>\u001b[0m in \u001b[0;36m<module>\u001b[1;34m()\u001b[0m\n\u001b[0;32m      1\u001b[0m \u001b[0mfh_spikes\u001b[0m \u001b[1;33m=\u001b[0m \u001b[0mget_spikes\u001b[0m\u001b[1;33m(\u001b[0m\u001b[0mgrouped_fh\u001b[0m\u001b[1;33m,\u001b[0m \u001b[1;36m1\u001b[0m\u001b[1;33m)\u001b[0m\u001b[1;33m\u001b[0m\u001b[0m\n\u001b[1;32m----> 2\u001b[1;33m \u001b[0msh_spikes\u001b[0m \u001b[1;33m=\u001b[0m \u001b[0mget_spikes\u001b[0m\u001b[1;33m(\u001b[0m\u001b[0mgrouped_sh\u001b[0m\u001b[1;33m,\u001b[0m \u001b[1;36m45\u001b[0m\u001b[1;33m)\u001b[0m\u001b[1;33m\u001b[0m\u001b[0m\n\u001b[0m\u001b[0;32m      3\u001b[0m \u001b[0mdir_\u001b[0m \u001b[1;33m=\u001b[0m \u001b[1;34m'../results/%s/'\u001b[0m\u001b[1;33m%\u001b[0m\u001b[1;33m(\u001b[0m\u001b[0mconfig\u001b[0m\u001b[1;33m[\u001b[0m\u001b[1;34m'db'\u001b[0m\u001b[1;33m]\u001b[0m\u001b[1;33m)\u001b[0m\u001b[1;33m\u001b[0m\u001b[0m\n\u001b[0;32m      4\u001b[0m \u001b[1;32mif\u001b[0m \u001b[1;32mnot\u001b[0m \u001b[0mos\u001b[0m\u001b[1;33m.\u001b[0m\u001b[0mpath\u001b[0m\u001b[1;33m.\u001b[0m\u001b[0mexists\u001b[0m\u001b[1;33m(\u001b[0m\u001b[0mdir_\u001b[0m\u001b[1;33m)\u001b[0m\u001b[1;33m:\u001b[0m\u001b[1;33m\u001b[0m\u001b[0m\n\u001b[0;32m      5\u001b[0m     \u001b[0mos\u001b[0m\u001b[1;33m.\u001b[0m\u001b[0mmakedirs\u001b[0m\u001b[1;33m(\u001b[0m\u001b[0mdir_\u001b[0m\u001b[1;33m)\u001b[0m\u001b[1;33m\u001b[0m\u001b[0m\n",
      "\u001b[1;32m<ipython-input-504-7b670b94474d>\u001b[0m in \u001b[0;36mget_spikes\u001b[1;34m(grouped, start)\u001b[0m\n\u001b[0;32m      3\u001b[0m     \u001b[0mspikes\u001b[0m \u001b[1;33m=\u001b[0m \u001b[1;33m[\u001b[0m\u001b[1;33m]\u001b[0m\u001b[1;33m\u001b[0m\u001b[0m\n\u001b[0;32m      4\u001b[0m     \u001b[1;32mwhile\u001b[0m \u001b[0mTrue\u001b[0m\u001b[1;33m:\u001b[0m\u001b[1;33m\u001b[0m\u001b[0m\n\u001b[1;32m----> 5\u001b[1;33m         \u001b[0mcur_tweet_count\u001b[0m \u001b[1;33m=\u001b[0m \u001b[0mgrouped\u001b[0m\u001b[1;33m.\u001b[0m\u001b[0mvalues\u001b[0m\u001b[1;33m[\u001b[0m\u001b[0mrow\u001b[0m\u001b[1;33m]\u001b[0m\u001b[1;33m[\u001b[0m\u001b[1;36m0\u001b[0m\u001b[1;33m]\u001b[0m \u001b[1;31m#Tweet Count of row = row, i.e. Total tweets in first minute\u001b[0m\u001b[1;33m\u001b[0m\u001b[0m\n\u001b[0m\u001b[0;32m      6\u001b[0m         \u001b[0mstart_index\u001b[0m \u001b[1;33m=\u001b[0m \u001b[0mrow\u001b[0m\u001b[1;33m\u001b[0m\u001b[0m\n\u001b[0;32m      7\u001b[0m         \u001b[0mend_index\u001b[0m \u001b[1;33m=\u001b[0m \u001b[0mrow\u001b[0m\u001b[1;33m\u001b[0m\u001b[0m\n",
      "\u001b[1;31mIndexError\u001b[0m: index 0 is out of bounds for axis 0 with size 0"
     ]
    }
   ],
   "source": [
    "fh_spikes = get_spikes(grouped_fh, 1)\n",
    "sh_spikes = get_spikes(grouped_sh, 45)\n",
    "dir_ = '../results/%s/'%(config['db'])\n",
    "if not os.path.exists(dir_):\n",
    "    os.makedirs(dir_)\n",
    "for spike in fh_spikes:\n",
    "    spike.fill_tweets(fh_filtered)\n",
    "    spike.write(dir_ + 'fh')\n",
    "    print spike\n",
    "Spike.counter=1\n",
    "for spike in sh_spikes:\n",
    "    spike.fill_tweets(sh_filtered)\n",
    "    spike.write(dir_+'sh')\n",
    "    print spike"
   ]
  },
  {
   "cell_type": "code",
   "execution_count": null,
   "metadata": {
    "collapsed": false
   },
   "outputs": [],
   "source": [
    "# let us make a simple graphfh\n",
    "fig_size = 10\n",
    "font_size = 2.5\n",
    "font = {\n",
    "        'weight' : 'bold',\n",
    "        'size'   : 30}\n",
    "\n",
    "matplotlib.rc('font', **font)\n",
    "\n",
    "fig = plt.figure(figsize=[fig_size*3,fig_size*1.5])\n",
    "plt.subplots_adjust(hspace=.5)\n",
    "\n",
    "# set the grid on\n",
    "plt.grid(color='r', linestyle='-', linewidth=0.5, which='major')\n",
    "plt.xticks(range(0,100,5))\n",
    "\n",
    "\n",
    "plt.subplot2grid((2,2), (0,0), colspan=2)\n",
    "plt.fill_between(grouped_fh.index, grouped_fh['text'], color='red')\n",
    "# set the basic properties\n",
    "plt.xlabel('Minute')\n",
    "plt.ylabel('Number of Tweets')\n",
    "plt.title('Tweet Volume Analysis,First Half: %s' %config['game'])\n",
    "# set the limits\n",
    "#ax.set_xlim(0, 24)\n",
    "#ax.set_ylim(6, 24)\n",
    "\n",
    "# set the grid on\n",
    "plt.grid(color='r', linestyle='-', linewidth=0.5, which='major')\n",
    "plt.xticks(range(0,50,5))\n",
    "\n",
    "plt.subplot2grid((2,2), (1,0), colspan=2)\n",
    "plt.fill_between(grouped_sh.index, grouped_sh['text'], color='red')\n",
    "# set the basic properties\n",
    "plt.xlabel('Minute')\n",
    "plt.ylabel('Number of Tweets')\n",
    "plt.title('Tweet Volume Analysis, Second Half: %s'%config['game'])\n",
    "# set the limits\n",
    "#ax.set_xlim(0, 24)\n",
    "#ax.set_ylim(6, 24)\n",
    "\n",
    "# set the grid on\n",
    "plt.grid(color='r', linestyle='-', linewidth=0.5, which='major')\n",
    "plt.xticks(range(45,100,5))\n",
    "fig.savefig(dir_ + 'plot.png')"
   ]
  },
  {
   "cell_type": "code",
   "execution_count": null,
   "metadata": {
    "collapsed": false
   },
   "outputs": [],
   "source": [
    "tpm = (fh_filtered.shape[0]/(45+fh_added_time) + sh_filtered.shape[0]/(45+sh_added_time))/2"
   ]
  },
  {
   "cell_type": "code",
   "execution_count": null,
   "metadata": {
    "collapsed": false
   },
   "outputs": [],
   "source": [
    "min(grouped_fh['text']), max(grouped_fh['text'])"
   ]
  },
  {
   "cell_type": "code",
   "execution_count": null,
   "metadata": {
    "collapsed": false
   },
   "outputs": [],
   "source": [
    "with open(filename, \"a\") as myfile:\n",
    "    if not config.has_key('tpm'):\n",
    "        myfile.write(\"tpm=%0.2f\\n\"%tpm)\n",
    "    if not config.has_key('n_tweets'):\n",
    "        myfile.write(\"n_tweets=%d\\n\"%(fh_filtered.shape[0] + sh_filtered.shape[0]))"
   ]
  },
  {
   "cell_type": "code",
   "execution_count": null,
   "metadata": {
    "collapsed": false
   },
   "outputs": [],
   "source": [
    "tpm"
   ]
  },
  {
   "cell_type": "code",
   "execution_count": null,
   "metadata": {
    "collapsed": true
   },
   "outputs": [],
   "source": []
  }
 ],
 "metadata": {
  "kernelspec": {
   "display_name": "Python 2",
   "language": "python",
   "name": "python2"
  },
  "language_info": {
   "codemirror_mode": {
    "name": "ipython",
    "version": 2
   },
   "file_extension": ".py",
   "mimetype": "text/x-python",
   "name": "python",
   "nbconvert_exporter": "python",
   "pygments_lexer": "ipython2",
   "version": "2.7.6"
  }
 },
 "nbformat": 4,
 "nbformat_minor": 0
}
