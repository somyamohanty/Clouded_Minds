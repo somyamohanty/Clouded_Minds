{
 "cells": [
  {
   "cell_type": "code",
   "execution_count": 614,
   "metadata": {
    "collapsed": false
   },
   "outputs": [
    {
     "name": "stdout",
     "output_type": "stream",
     "text": [
      "\n"
     ]
    }
   ],
   "source": [
    "import config_parser as c\n",
    "import string\n",
    "import nltk\n",
    "from sklearn.feature_extraction.text import TfidfVectorizer\n",
    "from sklearn.feature_extraction import text\n",
    "from sklearn.cluster import KMeans\n",
    "import nltk.stem "
   ]
  },
  {
   "cell_type": "code",
   "execution_count": 615,
   "metadata": {
    "collapsed": true
   },
   "outputs": [],
   "source": [
    "events = set(['goal','penalty','red','card','yellow','freekick','miss','substitute','scores','save'])"
   ]
  },
  {
   "cell_type": "code",
   "execution_count": 616,
   "metadata": {
    "collapsed": false
   },
   "outputs": [],
   "source": [
    "filename='../config/config-swabou.txt'\n",
    "config = {}\n",
    "\n",
    "with open(filename,'r') as configfile:\n",
    "    for line in configfile:\n",
    "        if line.startswith('#'):\n",
    "            continue\n",
    "        name,var=line.partition('=')[::2]\n",
    "        config[name.strip()]=var.strip()"
   ]
  },
  {
   "cell_type": "code",
   "execution_count": 617,
   "metadata": {
    "collapsed": false
   },
   "outputs": [],
   "source": [
    "def get_team_and_player(top_terms):\n",
    "    home_team_name = config['home-team'].split(':')[0]\n",
    "    home_team = config['home-team'].split(':')[1].split(',')\n",
    "    players_h = set(home_team) & set(top_terms) #if player involved is from home team\n",
    "    d = dict()\n",
    "    p_val = 100\n",
    "    player_h = ''\n",
    "    if len(players_h) > 1:\n",
    "        for p in players_h:\n",
    "            p_val_new = top_terms.index(p)\n",
    "            if p_val_new < p_val:\n",
    "                player_h = p\n",
    "                p_val = p_val_new\n",
    "    elif len(players_h) == 1:\n",
    "        player_h = next(iter(players_h))\n",
    "    \n",
    "    d[home_team_name] = player_h\n",
    "    away_team_name = config['away-team'].split(':')[0]\n",
    "    away_team = config['away-team'].split(':')[1].split(',')\n",
    "    players_a = set(away_team) & set(top_terms) #if player involved is from home team\n",
    "    p_val = 100\n",
    "    player_a = ''\n",
    "    if len(players_a) > 1:\n",
    "        for p in players_a:\n",
    "            p_val_new = top_terms.index(p)\n",
    "            if p_val_new < p_val:\n",
    "                player_a = p\n",
    "                p_val = p_val_new\n",
    "    elif len(players_a) == 1:\n",
    "        player_a = next(iter(players_a))\n",
    "    d[away_team_name] = player_a\n",
    "    return d"
   ]
  },
  {
   "cell_type": "code",
   "execution_count": 618,
   "metadata": {
    "collapsed": false
   },
   "outputs": [],
   "source": [
    "def get_event(tweets, n_clusters=1):\n",
    "    stop_words = set(config['keywords'].lower().split(','))\n",
    "    stop_words = text.ENGLISH_STOP_WORDS.union(stop_words)\\\n",
    "    .union(set(['http','https','vs']))\\\n",
    "    .union(set(config['home-team'].split(':')[0].split(' ')))\\\n",
    "    .union(set(config['away-team'].split(':')[0].split(' ')))\n",
    "    vectorizer = TfidfVectorizer(max_df=0.95\n",
    "                                 ,min_df=1\n",
    "                                 ,max_features=10000\n",
    "                                 ,decode_error='replace'\n",
    "                                 ,stop_words=set(stop_words))\n",
    "    tfidf=vectorizer.fit_transform(tweets.split(' '))\n",
    "    model = KMeans(n_clusters=n_clusters).fit(tfidf)\n",
    "    \n",
    "    terms = vectorizer.get_feature_names()\n",
    "    order_centroids = model.cluster_centers_.argsort()[:, ::-1]\n",
    "    top_terms = []\n",
    "    for i in range(n_clusters):\n",
    "        #print(\"Cluster %d:\" % i)\n",
    "        for ind in order_centroids[i, :10]:\n",
    "            top_terms.append(terms[ind])\n",
    "            print(' %s' % terms[ind]),\n",
    "            #print ' '\n",
    "    return set(top_terms) & events, get_team_and_player(top_terms)"
   ]
  },
  {
   "cell_type": "code",
   "execution_count": 619,
   "metadata": {
    "collapsed": false
   },
   "outputs": [],
   "source": [
    "def read_spike(spike, filter_lang=False):\n",
    "    tweet_text = ' '\n",
    "    with open(spike, 'r') as infile:\n",
    "        tweets = infile.readlines()\n",
    "        #print tweets[0],\n",
    "        minute = tweets[0].split(',')[0].split(':')[1]\n",
    "        n_tweets = tweets[0].split(',')[3].split(':')[1]\n",
    "        slope = tweets[0].split(',')[2].split(':')[1]\n",
    "        for tweet in tweets:\n",
    "            splits = tweet.split('^')\n",
    "            if filter_lang:\n",
    "                if len(splits) == 2 and splits[1].startswith('en'):\n",
    "                    tweet_text += splits[0]\n",
    "            else:\n",
    "                tweet_text += splits[0]\n",
    "    return tweet_text, minute, int(n_tweets), int(slope)"
   ]
  },
  {
   "cell_type": "code",
   "execution_count": 620,
   "metadata": {
    "collapsed": false
   },
   "outputs": [
    {
     "name": "stdout",
     "output_type": "stream",
     "text": [
      "503 18981 37 195 , ../results/swabou/fh1.spike, 26-28:   gosling  monk  goal  fuck  26  dan  fucking  swans  winning  losing (set(['goal']), {'Swansea': '', 'Bournemouth': u'gosling'})\n",
      "\n",
      "316 11512 36 135 , ../results/swabou/fh2.spike, 38-40:   shelvey  penalty  level  game  goal  pen  swans  comeback  39  jonjo (set(['penalty', 'goal']), {'Swansea': u'shelvey', 'Bournemouth': ''})\n",
      "\n",
      "186 7689 41 69 , ../results/swabou/fh3.spike, 10-12:   king  josh  goal  10  lead  southampton  scores  scored  winning  fuck (set(['goal', 'scores']), {'Swansea': '', 'Bournemouth': u'king'})\n",
      "\n",
      "56 2475 44 55 , ../results/swabou/sh1.spike, 94-95:   city  swans  time  brom  arsenal  ayew  premier  shelvey  everton  king (set([]), {'Swansea': u'ayew', 'Bournemouth': u'king'})\n",
      "\n"
     ]
    }
   ],
   "source": [
    "import glob\n",
    "spikes = sorted(glob.glob(\"../results/%s/*.spike\"%config['db']))\n",
    "results = []\n",
    "for spike in spikes:\n",
    "    tweet_text, minute, n_tweets,slope = read_spike(spike, True)\n",
    "    cpt = len(tweet_text)/n_tweets\n",
    "    if slope > float(config['tpm']) * 0.15:\n",
    "        print n_tweets, len(tweet_text), cpt,slope,\n",
    "        print ', %s, %s: '% (spike, minute),\n",
    "        print get_event(tweet_text)\n",
    "        print"
   ]
  },
  {
   "cell_type": "code",
   "execution_count": 621,
   "metadata": {
    "collapsed": false
   },
   "outputs": [],
   "source": [
    "s = set([1,2,4])"
   ]
  },
  {
   "cell_type": "code",
   "execution_count": null,
   "metadata": {
    "collapsed": true
   },
   "outputs": [],
   "source": []
  }
 ],
 "metadata": {
  "kernelspec": {
   "display_name": "Python 2",
   "language": "python",
   "name": "python2"
  },
  "language_info": {
   "codemirror_mode": {
    "name": "ipython",
    "version": 2
   },
   "file_extension": ".py",
   "mimetype": "text/x-python",
   "name": "python",
   "nbconvert_exporter": "python",
   "pygments_lexer": "ipython2",
   "version": "2.7.6"
  }
 },
 "nbformat": 4,
 "nbformat_minor": 0
}
