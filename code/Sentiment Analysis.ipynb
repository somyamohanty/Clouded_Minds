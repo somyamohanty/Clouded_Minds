{
 "cells": [
  {
   "cell_type": "code",
   "execution_count": 2,
   "metadata": {
    "collapsed": true
   },
   "outputs": [],
   "source": [
    "import pandas as pd\n",
    "import numpy as np\n",
    "import operator\n",
    "from pandas.tseries.offsets import DateOffset\n",
    "from datetime import datetime, timedelta\n",
    "import matplotlib.pyplot as plt\n",
    "%matplotlib inline"
   ]
  },
  {
   "cell_type": "code",
   "execution_count": 3,
   "metadata": {
    "collapsed": true
   },
   "outputs": [],
   "source": [
    "tweets = pd.read_csv('../data/new-datasets/sent/engesp_sent_Spain.csv')\n",
    "#start_time = datetime(2015,10,3,17,30,0)"
   ]
  },
  {
   "cell_type": "code",
   "execution_count": 4,
   "metadata": {
    "collapsed": false
   },
   "outputs": [
    {
     "data": {
      "text/html": [
       "<div>\n",
       "<table border=\"1\" class=\"dataframe\">\n",
       "  <thead>\n",
       "    <tr style=\"text-align: right;\">\n",
       "      <th></th>\n",
       "      <th>text</th>\n",
       "      <th>user</th>\n",
       "      <th>created_at</th>\n",
       "      <th>timestamp</th>\n",
       "      <th>geo</th>\n",
       "      <th>lang</th>\n",
       "      <th>polarity</th>\n",
       "    </tr>\n",
       "  </thead>\n",
       "  <tbody>\n",
       "    <tr>\n",
       "      <th>0</th>\n",
       "      <td>#SPAvENG stream on @ESPN3: https://t.co/wpiNN4...</td>\n",
       "      <td>Spurs_US</td>\n",
       "      <td>2015-11-13 20:34:41</td>\n",
       "      <td>1447443281485</td>\n",
       "      <td>NaN</td>\n",
       "      <td>en</td>\n",
       "      <td>2</td>\n",
       "    </tr>\n",
       "    <tr>\n",
       "      <th>1</th>\n",
       "      <td>Algo de bachateo ayer !!! @ Jerez De La Fronte...</td>\n",
       "      <td>juanpe_cuadrado</td>\n",
       "      <td>2015-11-13 20:34:41</td>\n",
       "      <td>1447443281977</td>\n",
       "      <td>NaN</td>\n",
       "      <td>es</td>\n",
       "      <td>2</td>\n",
       "    </tr>\n",
       "    <tr>\n",
       "      <th>2</th>\n",
       "      <td>[ e24sn ] International Friendly: Spain vs Eng...</td>\n",
       "      <td>LEGACYfied</td>\n",
       "      <td>2015-11-13 20:34:42</td>\n",
       "      <td>1447443282433</td>\n",
       "      <td>NaN</td>\n",
       "      <td>en</td>\n",
       "      <td>2</td>\n",
       "    </tr>\n",
       "    <tr>\n",
       "      <th>3</th>\n",
       "      <td>LIVE: Spain - England: Roy Hodgson's side trav...</td>\n",
       "      <td>Bot_Football</td>\n",
       "      <td>2015-11-13 20:34:42</td>\n",
       "      <td>1447443282915</td>\n",
       "      <td>NaN</td>\n",
       "      <td>en</td>\n",
       "      <td>2</td>\n",
       "    </tr>\n",
       "    <tr>\n",
       "      <th>4</th>\n",
       "      <td>come on England tonight let beat Spain #eng</td>\n",
       "      <td>fluffyForest21</td>\n",
       "      <td>2015-11-13 20:34:44</td>\n",
       "      <td>1447443284942</td>\n",
       "      <td>NaN</td>\n",
       "      <td>en</td>\n",
       "      <td>2</td>\n",
       "    </tr>\n",
       "  </tbody>\n",
       "</table>\n",
       "</div>"
      ],
      "text/plain": [
       "                                                text             user  \\\n",
       "0  #SPAvENG stream on @ESPN3: https://t.co/wpiNN4...         Spurs_US   \n",
       "1  Algo de bachateo ayer !!! @ Jerez De La Fronte...  juanpe_cuadrado   \n",
       "2  [ e24sn ] International Friendly: Spain vs Eng...       LEGACYfied   \n",
       "3  LIVE: Spain - England: Roy Hodgson's side trav...     Bot_Football   \n",
       "4        come on England tonight let beat Spain #eng   fluffyForest21   \n",
       "\n",
       "           created_at      timestamp  geo lang  polarity  \n",
       "0 2015-11-13 20:34:41  1447443281485  NaN   en         2  \n",
       "1 2015-11-13 20:34:41  1447443281977  NaN   es         2  \n",
       "2 2015-11-13 20:34:42  1447443282433  NaN   en         2  \n",
       "3 2015-11-13 20:34:42  1447443282915  NaN   en         2  \n",
       "4 2015-11-13 20:34:44  1447443284942  NaN   en         2  "
      ]
     },
     "execution_count": 4,
     "metadata": {},
     "output_type": "execute_result"
    }
   ],
   "source": [
    "tweets['created_at'] = pd.to_datetime(pd.Series(tweets['created_at'])).apply(lambda d: d + timedelta(hours=1))\n",
    "tweets.head()"
   ]
  },
  {
   "cell_type": "code",
   "execution_count": 5,
   "metadata": {
    "collapsed": false
   },
   "outputs": [],
   "source": [
    "tweets_grouped = tweets.groupby('polarity')"
   ]
  },
  {
   "cell_type": "code",
   "execution_count": 6,
   "metadata": {
    "collapsed": false
   },
   "outputs": [
    {
     "data": {
      "text/plain": [
       "<matplotlib.axes._subplots.AxesSubplot at 0x7f3eb51fec90>"
      ]
     },
     "execution_count": 6,
     "metadata": {},
     "output_type": "execute_result"
    },
    {
     "data": {
      "image/png": "[encoded data removed]",
      "text/plain": [
       "<matplotlib.figure.Figure at 0x7f3ed8e482d0>"
      ]
     },
     "metadata": {},
     "output_type": "display_data"
    }
   ],
   "source": [
    "tweets_grouped.polarity.count().plot(kind='bar')"
   ]
  },
  {
   "cell_type": "code",
   "execution_count": null,
   "metadata": {
    "collapsed": true
   },
   "outputs": [],
   "source": []
  },
  {
   "cell_type": "code",
   "execution_count": null,
   "metadata": {
    "collapsed": true
   },
   "outputs": [],
   "source": []
  }
 ],
 "metadata": {
  "kernelspec": {
   "display_name": "Python 2",
   "language": "python",
   "name": "python2"
  },
  "language_info": {
   "codemirror_mode": {
    "name": "ipython",
    "version": 2
   },
   "file_extension": ".py",
   "mimetype": "text/x-python",
   "name": "python",
   "nbconvert_exporter": "python",
   "pygments_lexer": "ipython2",
   "version": "2.7.6"
  }
 },
 "nbformat": 4,
 "nbformat_minor": 0
}
